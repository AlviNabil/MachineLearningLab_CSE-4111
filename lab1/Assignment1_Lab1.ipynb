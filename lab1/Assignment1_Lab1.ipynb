{
  "cells": [
    {
      "cell_type": "markdown",
      "metadata": {
        "colab_type": "text",
        "id": "view-in-github"
      },
      "source": [
        "<a href=\"https://colab.research.google.com/github/AlviNabil/MachineLearningLab_CSE-4111/blob/main/lab1/Assignment_Lab1.ipynb\" target=\"_parent\"><img src=\"https://colab.research.google.com/assets/colab-badge.svg\" alt=\"Open In Colab\"/></a>"
      ]
    },
    {
      "cell_type": "markdown",
      "metadata": {
        "id": "FUirXlPwYI6P"
      },
      "source": [
        "#Importing all the required Libraries"
      ]
    },
    {
      "cell_type": "code",
      "execution_count": null,
      "metadata": {
        "id": "VLlWXcVU6j2k"
      },
      "outputs": [],
      "source": [
        "import numpy as np\n",
        "import pandas as pd\n",
        "import sklearn\n",
        "from sklearn.metrics import confusion_matrix\n",
        "from sklearn.metrics import accuracy_score\n",
        "from sklearn.model_selection import train_test_split\n",
        "from matplotlib import pyplot as plt \n",
        "\n"
      ]
    },
    {
      "cell_type": "markdown",
      "metadata": {
        "id": "p_DzIxz1YPcT"
      },
      "source": [
        "#Read the Pima Dataset and store it in a variable"
      ]
    },
    {
      "cell_type": "code",
      "execution_count": null,
      "metadata": {
        "colab": {
          "base_uri": "https://localhost:8080/"
        },
        "id": "zxCqy6BkYYNi",
        "outputId": "1436e846-eb7d-4f60-fd64-0221cec3ce0f"
      },
      "outputs": [],
      "source": [
        "# for google colab \n",
        "# ========>>========>>=========>>========>>\n",
        "# from google.colab import drive\n",
        "# drive.mount('/content/drive')\n",
        "# pima = pd.read_csv('/content/drive/MyDrive/4_1/ML/lab1/data/diabetes.csv')\n",
        "# ==========>>=========>>===========>>==========>>\n",
        "\n",
        "#for local \n",
        "pima = pd.read_csv('../data/diabetes.csv')\n",
        "pima.head()\n",
        "\n"
      ]
    },
    {
      "cell_type": "markdown",
      "metadata": {},
      "source": [
        "#Visualizing the effects of various features on output"
      ]
    },
    {
      "cell_type": "code",
      "execution_count": null,
      "metadata": {},
      "outputs": [],
      "source": [
        "# figx = str(input(\"Feature 1 Index: \"))\n",
        "# figy = str(input(\"Feature 2 Index: \"))\n",
        "figx=5\n",
        "figy=6\n",
        "plt.figure(figsize=(12,6))\n",
        "plt.title(\"pima\")\n",
        "plt.scatter(pima.iloc[:,int(figx)], pima.iloc[:,int(figy)], c=pima.iloc[:, pima.shape[1]-1])\n",
        "plt.xlabel(pima.columns[int(figx)])\n",
        "plt.ylabel(pima.columns[int(figy)])\n",
        "plt.show()"
      ]
    },
    {
      "cell_type": "markdown",
      "metadata": {
        "id": "sS4-SmmwYdm2"
      },
      "source": [
        "#Separating Data and Target variables from the CSV file"
      ]
    },
    {
      "cell_type": "code",
      "execution_count": null,
      "metadata": {
        "id": "nEMJsEC7_w4i"
      },
      "outputs": [],
      "source": [
        "pima_data = pima.iloc[:,0:pima.shape[1]-1]\n",
        "pima_target = pima.iloc[:,pima.shape[1]-1]"
      ]
    },
    {
      "cell_type": "markdown",
      "metadata": {
        "id": "7Eb79oAxYlLy"
      },
      "source": [
        "#Checking and printing the data and targets and their shape"
      ]
    },
    {
      "cell_type": "code",
      "execution_count": null,
      "metadata": {
        "colab": {
          "base_uri": "https://localhost:8080/"
        },
        "id": "uKA441S3Hccr",
        "outputId": "614d659e-ce8a-457b-e7ad-1ebb9c5b76ef"
      },
      "outputs": [],
      "source": [
        "print(pima_data.head())\n",
        "print(pima_target.head())\n",
        "print(pima_data.shape)\n",
        "print(pima_target.shape)"
      ]
    },
    {
      "cell_type": "markdown",
      "metadata": {
        "id": "zfFRHGp_Yze-"
      },
      "source": [
        "#Spliting the data and target into train set and test set in 80/20 randomly where random state can be chosen(here 42)"
      ]
    },
    {
      "cell_type": "code",
      "execution_count": null,
      "metadata": {
        "id": "PYeLvaCcIgAS"
      },
      "outputs": [],
      "source": [
        "X_train, X_test, y_train, y_test = train_test_split(pima_data, pima_target, test_size=0.2)\n",
        "print(X_train.shape, X_test.shape)"
      ]
    },
    {
      "cell_type": "markdown",
      "metadata": {
        "id": "8VPDQqF-ZIyw"
      },
      "source": [
        "#Training the KNN model with our train data"
      ]
    },
    {
      "cell_type": "code",
      "execution_count": null,
      "metadata": {
        "colab": {
          "base_uri": "https://localhost:8080/"
        },
        "id": "B-Q5H5QWI8hM",
        "outputId": "dd201fb5-b47d-4d5f-efbc-107961dbdcad"
      },
      "outputs": [],
      "source": [
        "from sklearn.neighbors  import KNeighborsClassifier\n",
        "KNN = KNeighborsClassifier(n_neighbors=3)\n",
        "\n",
        "KNN.fit(X_train, y_train)"
      ]
    },
    {
      "cell_type": "markdown",
      "metadata": {
        "id": "k0HBz1slZRxO"
      },
      "source": [
        "#Predicting the result\n",
        "\n",
        "\n",
        "\n"
      ]
    },
    {
      "cell_type": "code",
      "execution_count": null,
      "metadata": {
        "id": "yiSG4uKaIkI7"
      },
      "outputs": [],
      "source": [
        "y_pred = KNN.predict(X_test)\n",
        "print(y_pred)\n",
        "y_pred\n",
        "print(len(y_test))"
      ]
    },
    {
      "cell_type": "markdown",
      "metadata": {
        "id": "a1MlmG-vZet_"
      },
      "source": [
        "#Determining the accuracy of this test"
      ]
    },
    {
      "cell_type": "code",
      "execution_count": null,
      "metadata": {
        "colab": {
          "base_uri": "https://localhost:8080/"
        },
        "id": "39QfmSFVIxCx",
        "outputId": "2965953b-3bed-4ff7-b628-5d8c11317607"
      },
      "outputs": [],
      "source": [
        "print(\"Accuracy: \", accuracy_score(y_test,y_pred))"
      ]
    },
    {
      "cell_type": "markdown",
      "metadata": {
        "id": "hUceytIcZj7n"
      },
      "source": [
        "#Determining the error percentage for different value of K in KNN and keeping them in an error list"
      ]
    },
    {
      "cell_type": "code",
      "execution_count": null,
      "metadata": {
        "colab": {
          "base_uri": "https://localhost:8080/"
        },
        "id": "25mNOtU_Izdx",
        "outputId": "ce8d7e68-b303-4309-92c3-8283adf5fb85"
      },
      "outputs": [],
      "source": [
        "error = []\n",
        "\n",
        "\n",
        "for i in range(1,40):\n",
        "  knn = KNeighborsClassifier(n_neighbors = i)\n",
        "  knn.fit(X_train,y_train)\n",
        "  pred_i = knn.predict(X_test)\n",
        "  error.append(np.mean(pred_i !=y_test))\n",
        "  print(\"error percentage:\",np.mean(pred_i!=y_test)*100,\"% \\tNumber of Error: \",int(np.mean(pred_i!=y_test)*len(y_test)))"
      ]
    },
    {
      "cell_type": "markdown",
      "metadata": {
        "id": "u1t2LNS8Z6Sc"
      },
      "source": [
        "#Plotting Mean Error vs k-Value "
      ]
    },
    {
      "cell_type": "code",
      "execution_count": null,
      "metadata": {
        "colab": {
          "base_uri": "https://localhost:8080/",
          "height": 421
        },
        "id": "u0HoAyaRJVmP",
        "outputId": "29af0acc-47e2-441b-9fad-b4dcc0cb670c"
      },
      "outputs": [],
      "source": [
        "plt.figure(figsize=(12,6))\n",
        "ax=plt.axes()\n",
        "ax.set(facecolor=\"#D5D8DC\")\n",
        "plt.plot(\n",
        "    range(1,40), \n",
        "    error, \n",
        "    color='#2E4053', \n",
        "    linestyle='dashed', \n",
        "    marker='8', \n",
        "    markerfacecolor='#DC7633', \n",
        "    markersize=10)\n",
        "plt.title('Error Rate K value')\n",
        "plt.xlabel('K value')\n",
        "plt.ylabel('Mean Error')"
      ]
    },
    {
      "cell_type": "markdown",
      "metadata": {},
      "source": [
        "#Finding the best value of k for our data which is for minimum error"
      ]
    },
    {
      "cell_type": "code",
      "execution_count": null,
      "metadata": {},
      "outputs": [],
      "source": [
        "print(\"The best K value \", np.argmin(error)+1, \"The minimum error value is :\", min(error),\"\\n(If multiple first one is taken)\")"
      ]
    }
  ],
  "metadata": {
    "colab": {
      "collapsed_sections": [],
      "include_colab_link": true,
      "name": "Assignment_Lab1.ipynb",
      "provenance": []
    },
    "kernelspec": {
      "display_name": "Python 3",
      "name": "python3"
    },
    "language_info": {
      "codemirror_mode": {
        "name": "ipython",
        "version": 3
      },
      "file_extension": ".py",
      "mimetype": "text/x-python",
      "name": "python",
      "nbconvert_exporter": "python",
      "pygments_lexer": "ipython3",
      "version": "3.9.6"
    }
  },
  "nbformat": 4,
  "nbformat_minor": 0
}
