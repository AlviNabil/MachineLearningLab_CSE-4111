{
  "cells": [
    {
      "cell_type": "markdown",
      "metadata": {
        "colab_type": "text",
        "id": "view-in-github"
      },
      "source": [
        "<a href=\"https://colab.research.google.com/github/AlviNabil/MachineLearningLab_CSE-4111/blob/main/lab1/Assignment_Lab1.ipynb\" target=\"_parent\"><img src=\"https://colab.research.google.com/assets/colab-badge.svg\" alt=\"Open In Colab\"/></a>"
      ]
    },
    {
      "cell_type": "markdown",
      "metadata": {
        "id": "FUirXlPwYI6P"
      },
      "source": [
        "#Importing all the required Libraries"
      ]
    },
    {
      "cell_type": "code",
      "execution_count": 9,
      "metadata": {
        "id": "VLlWXcVU6j2k"
      },
      "outputs": [],
      "source": [
        "import numpy as np\n",
        "import pandas as pd\n",
        "import sklearn\n",
        "from sklearn.metrics import confusion_matrix\n",
        "from sklearn.metrics import accuracy_score\n",
        "from sklearn.model_selection import train_test_split\n",
        "from matplotlib import pyplot as plt \n",
        "\n"
      ]
    },
    {
      "cell_type": "markdown",
      "metadata": {
        "id": "p_DzIxz1YPcT"
      },
      "source": [
        "#Read the Pima Dataset and store it in a variable"
      ]
    },
    {
      "cell_type": "code",
      "execution_count": 10,
      "metadata": {
        "colab": {
          "base_uri": "https://localhost:8080/"
        },
        "id": "zxCqy6BkYYNi",
        "outputId": "1436e846-eb7d-4f60-fd64-0221cec3ce0f"
      },
      "outputs": [
        {
          "data": {
            "text/html": [
              "<div>\n",
              "<style scoped>\n",
              "    .dataframe tbody tr th:only-of-type {\n",
              "        vertical-align: middle;\n",
              "    }\n",
              "\n",
              "    .dataframe tbody tr th {\n",
              "        vertical-align: top;\n",
              "    }\n",
              "\n",
              "    .dataframe thead th {\n",
              "        text-align: right;\n",
              "    }\n",
              "</style>\n",
              "<table border=\"1\" class=\"dataframe\">\n",
              "  <thead>\n",
              "    <tr style=\"text-align: right;\">\n",
              "      <th></th>\n",
              "      <th>Pregnancies</th>\n",
              "      <th>Glucose</th>\n",
              "      <th>BloodPressure</th>\n",
              "      <th>SkinThickness</th>\n",
              "      <th>Insulin</th>\n",
              "      <th>BMI</th>\n",
              "      <th>DiabetesPedigreeFunction</th>\n",
              "      <th>Age</th>\n",
              "      <th>Outcome</th>\n",
              "    </tr>\n",
              "  </thead>\n",
              "  <tbody>\n",
              "    <tr>\n",
              "      <th>0</th>\n",
              "      <td>6</td>\n",
              "      <td>148</td>\n",
              "      <td>72</td>\n",
              "      <td>35</td>\n",
              "      <td>0</td>\n",
              "      <td>33.6</td>\n",
              "      <td>0.627</td>\n",
              "      <td>50</td>\n",
              "      <td>1</td>\n",
              "    </tr>\n",
              "    <tr>\n",
              "      <th>1</th>\n",
              "      <td>1</td>\n",
              "      <td>85</td>\n",
              "      <td>66</td>\n",
              "      <td>29</td>\n",
              "      <td>0</td>\n",
              "      <td>26.6</td>\n",
              "      <td>0.351</td>\n",
              "      <td>31</td>\n",
              "      <td>0</td>\n",
              "    </tr>\n",
              "    <tr>\n",
              "      <th>2</th>\n",
              "      <td>8</td>\n",
              "      <td>183</td>\n",
              "      <td>64</td>\n",
              "      <td>0</td>\n",
              "      <td>0</td>\n",
              "      <td>23.3</td>\n",
              "      <td>0.672</td>\n",
              "      <td>32</td>\n",
              "      <td>1</td>\n",
              "    </tr>\n",
              "    <tr>\n",
              "      <th>3</th>\n",
              "      <td>1</td>\n",
              "      <td>89</td>\n",
              "      <td>66</td>\n",
              "      <td>23</td>\n",
              "      <td>94</td>\n",
              "      <td>28.1</td>\n",
              "      <td>0.167</td>\n",
              "      <td>21</td>\n",
              "      <td>0</td>\n",
              "    </tr>\n",
              "    <tr>\n",
              "      <th>4</th>\n",
              "      <td>0</td>\n",
              "      <td>137</td>\n",
              "      <td>40</td>\n",
              "      <td>35</td>\n",
              "      <td>168</td>\n",
              "      <td>43.1</td>\n",
              "      <td>2.288</td>\n",
              "      <td>33</td>\n",
              "      <td>1</td>\n",
              "    </tr>\n",
              "  </tbody>\n",
              "</table>\n",
              "</div>"
            ],
            "text/plain": [
              "   Pregnancies  Glucose  BloodPressure  SkinThickness  Insulin   BMI  \\\n",
              "0            6      148             72             35        0  33.6   \n",
              "1            1       85             66             29        0  26.6   \n",
              "2            8      183             64              0        0  23.3   \n",
              "3            1       89             66             23       94  28.1   \n",
              "4            0      137             40             35      168  43.1   \n",
              "\n",
              "   DiabetesPedigreeFunction  Age  Outcome  \n",
              "0                     0.627   50        1  \n",
              "1                     0.351   31        0  \n",
              "2                     0.672   32        1  \n",
              "3                     0.167   21        0  \n",
              "4                     2.288   33        1  "
            ]
          },
          "execution_count": 10,
          "metadata": {},
          "output_type": "execute_result"
        }
      ],
      "source": [
        "# for google colab \n",
        "# ========>>========>>=========>>========>>\n",
        "# from google.colab import drive\n",
        "# drive.mount('/content/drive')\n",
        "# pima = pd.read_csv('/content/drive/MyDrive/4_1/ML/lab1/data/diabetes.csv')\n",
        "# ==========>>=========>>===========>>==========>>\n",
        "\n",
        "#for local \n",
        "pima = pd.read_csv('../data/diabetes.csv')\n",
        "pima.head()\n",
        "\n"
      ]
    },
    {
      "cell_type": "markdown",
      "metadata": {},
      "source": [
        "#Visualizing the effects of various features on output"
      ]
    },
    {
      "cell_type": "code",
      "execution_count": 11,
      "metadata": {},
      "outputs": [],
      "source": [
        "figx = str(input(\"Feature 1 Index: \"))\n",
        "figy = str(input(\"Feature 2 Index: \"))\n",
        "# figx=5\n",
        "# figy=6\n",
        "plt.figure(figsize=(12,6))\n",
        "plt.title(\"pima\")\n",
        "plt.scatter(pima.iloc[:,int(figx)], pima.iloc[:,int(figy)], c=pima.iloc[:, pima.shape[1]-1])\n",
        "plt.xlabel(pima.columns[int(figx)])\n",
        "plt.ylabel(pima.columns[int(figy)])\n",
        "plt.show()"
      ]
    },
    {
      "cell_type": "markdown",
      "metadata": {
        "id": "sS4-SmmwYdm2"
      },
      "source": [
        "#Separating Data and Target variables from the CSV file"
      ]
    },
    {
      "cell_type": "code",
      "execution_count": null,
      "metadata": {
        "id": "nEMJsEC7_w4i"
      },
      "outputs": [],
      "source": [
        "pima_data = pima.iloc[:,0:pima.shape[1]-1]\n",
        "pima_target = pima.iloc[:,pima.shape[1]-1]"
      ]
    },
    {
      "cell_type": "markdown",
      "metadata": {
        "id": "7Eb79oAxYlLy"
      },
      "source": [
        "#Checking and printing the data and targets and their shape"
      ]
    },
    {
      "cell_type": "code",
      "execution_count": null,
      "metadata": {
        "colab": {
          "base_uri": "https://localhost:8080/"
        },
        "id": "uKA441S3Hccr",
        "outputId": "614d659e-ce8a-457b-e7ad-1ebb9c5b76ef"
      },
      "outputs": [
        {
          "name": "stdout",
          "output_type": "stream",
          "text": [
            "   Pregnancies  Glucose  BloodPressure  SkinThickness  Insulin   BMI  \\\n",
            "0            6      148             72             35        0  33.6   \n",
            "1            1       85             66             29        0  26.6   \n",
            "2            8      183             64              0        0  23.3   \n",
            "3            1       89             66             23       94  28.1   \n",
            "4            0      137             40             35      168  43.1   \n",
            "\n",
            "   DiabetesPedigreeFunction  Age  \n",
            "0                     0.627   50  \n",
            "1                     0.351   31  \n",
            "2                     0.672   32  \n",
            "3                     0.167   21  \n",
            "4                     2.288   33  \n",
            "0    1\n",
            "1    0\n",
            "2    1\n",
            "3    0\n",
            "4    1\n",
            "Name: Outcome, dtype: int64\n",
            "(768, 8)\n",
            "(768,)\n"
          ]
        }
      ],
      "source": [
        "print(pima_data.head())\n",
        "print(pima_target.head())\n",
        "print(pima_data.shape)\n",
        "print(pima_target.shape)"
      ]
    },
    {
      "cell_type": "markdown",
      "metadata": {
        "id": "zfFRHGp_Yze-"
      },
      "source": [
        "#Spliting the data and target into train set and test set in 80/20 randomly where random state can be chosen(here 42)"
      ]
    },
    {
      "cell_type": "code",
      "execution_count": null,
      "metadata": {
        "id": "PYeLvaCcIgAS"
      },
      "outputs": [
        {
          "name": "stdout",
          "output_type": "stream",
          "text": [
            "(614, 8) (154, 8)\n"
          ]
        }
      ],
      "source": [
        "X_train, X_test, y_train, y_test = train_test_split(pima_data, pima_target, test_size=0.2, random_state=42)\n",
        "print(X_train.shape, X_test.shape)"
      ]
    },
    {
      "cell_type": "markdown",
      "metadata": {
        "id": "8VPDQqF-ZIyw"
      },
      "source": [
        "#Training the KNN model with our train data"
      ]
    },
    {
      "cell_type": "code",
      "execution_count": null,
      "metadata": {
        "colab": {
          "base_uri": "https://localhost:8080/"
        },
        "id": "B-Q5H5QWI8hM",
        "outputId": "dd201fb5-b47d-4d5f-efbc-107961dbdcad"
      },
      "outputs": [
        {
          "data": {
            "text/plain": [
              "KNeighborsClassifier(n_neighbors=3)"
            ]
          },
          "execution_count": 93,
          "metadata": {},
          "output_type": "execute_result"
        }
      ],
      "source": [
        "from sklearn.neighbors  import KNeighborsClassifier\n",
        "KNN = KNeighborsClassifier(n_neighbors=3)\n",
        "\n",
        "KNN.fit(X_train, y_train)"
      ]
    },
    {
      "cell_type": "markdown",
      "metadata": {
        "id": "k0HBz1slZRxO"
      },
      "source": [
        "#Predicting the result\n",
        "\n",
        "\n",
        "\n"
      ]
    },
    {
      "cell_type": "code",
      "execution_count": null,
      "metadata": {
        "id": "yiSG4uKaIkI7"
      },
      "outputs": [
        {
          "name": "stdout",
          "output_type": "stream",
          "text": [
            "[0 1 0 1 1 1 0 0 1 1 0 1 0 0 0 1 0 0 1 1 1 0 1 0 1 1 0 0 0 0 1 0 1 1 0 1 1\n",
            " 0 0 1 0 1 1 1 0 0 0 0 0 1 0 1 1 0 0 0 0 0 0 1 1 1 1 0 0 1 0 0 0 1 1 0 0 0\n",
            " 0 1 0 0 0 0 1 0 0 1 0 1 1 0 0 0 0 0 0 0 1 1 1 0 1 0 1 0 0 0 1 1 0 1 0 1 0\n",
            " 1 0 1 1 1 1 0 0 0 0 0 1 0 1 1 0 1 1 1 1 0 1 1 1 1 0 1 1 0 0 0 0 1 0 0 0 0\n",
            " 1 1 0 0 1 0]\n",
            "154\n"
          ]
        }
      ],
      "source": [
        "y_pred = KNN.predict(X_test)\n",
        "print(y_pred)\n",
        "y_pred\n",
        "print(len(y_test))"
      ]
    },
    {
      "cell_type": "markdown",
      "metadata": {
        "id": "a1MlmG-vZet_"
      },
      "source": [
        "#Determining the accuracy of this test"
      ]
    },
    {
      "cell_type": "code",
      "execution_count": null,
      "metadata": {
        "colab": {
          "base_uri": "https://localhost:8080/"
        },
        "id": "39QfmSFVIxCx",
        "outputId": "2965953b-3bed-4ff7-b628-5d8c11317607"
      },
      "outputs": [
        {
          "name": "stdout",
          "output_type": "stream",
          "text": [
            "Accuracy:  0.6493506493506493\n"
          ]
        }
      ],
      "source": [
        "print(\"Accuracy: \", accuracy_score(y_test,y_pred))"
      ]
    },
    {
      "cell_type": "markdown",
      "metadata": {
        "id": "hUceytIcZj7n"
      },
      "source": [
        "#Determining the error percentage for different value of K in KNN and keeping them in an error list"
      ]
    },
    {
      "cell_type": "code",
      "execution_count": null,
      "metadata": {
        "colab": {
          "base_uri": "https://localhost:8080/"
        },
        "id": "25mNOtU_Izdx",
        "outputId": "ce8d7e68-b303-4309-92c3-8283adf5fb85"
      },
      "outputs": [
        {
          "name": "stdout",
          "output_type": "stream",
          "text": [
            "error percentage: 32.467532467532465 % \tNumber of Error:  50\n",
            "error percentage: 29.87012987012987 % \tNumber of Error:  46\n",
            "error percentage: 35.064935064935064 % \tNumber of Error:  54\n",
            "error percentage: 29.22077922077922 % \tNumber of Error:  45\n",
            "error percentage: 33.76623376623377 % \tNumber of Error:  52\n",
            "error percentage: 27.27272727272727 % \tNumber of Error:  42\n",
            "error percentage: 31.16883116883117 % \tNumber of Error:  48\n",
            "error percentage: 25.324675324675322 % \tNumber of Error:  38\n",
            "error percentage: 27.92207792207792 % \tNumber of Error:  43\n",
            "error percentage: 23.376623376623375 % \tNumber of Error:  36\n",
            "error percentage: 26.623376623376622 % \tNumber of Error:  41\n",
            "error percentage: 22.07792207792208 % \tNumber of Error:  34\n",
            "error percentage: 22.727272727272727 % \tNumber of Error:  35\n",
            "error percentage: 22.727272727272727 % \tNumber of Error:  35\n",
            "error percentage: 24.025974025974026 % \tNumber of Error:  37\n",
            "error percentage: 22.07792207792208 % \tNumber of Error:  34\n",
            "error percentage: 22.727272727272727 % \tNumber of Error:  35\n",
            "error percentage: 24.025974025974026 % \tNumber of Error:  37\n",
            "error percentage: 24.675324675324674 % \tNumber of Error:  38\n",
            "error percentage: 27.27272727272727 % \tNumber of Error:  42\n",
            "error percentage: 25.97402597402597 % \tNumber of Error:  39\n",
            "error percentage: 25.97402597402597 % \tNumber of Error:  39\n",
            "error percentage: 28.57142857142857 % \tNumber of Error:  44\n",
            "error percentage: 25.324675324675322 % \tNumber of Error:  38\n",
            "error percentage: 28.57142857142857 % \tNumber of Error:  44\n",
            "error percentage: 25.97402597402597 % \tNumber of Error:  39\n",
            "error percentage: 27.27272727272727 % \tNumber of Error:  42\n",
            "error percentage: 26.623376623376622 % \tNumber of Error:  41\n",
            "error percentage: 28.57142857142857 % \tNumber of Error:  44\n",
            "error percentage: 29.22077922077922 % \tNumber of Error:  45\n",
            "error percentage: 27.92207792207792 % \tNumber of Error:  43\n",
            "error percentage: 25.97402597402597 % \tNumber of Error:  39\n",
            "error percentage: 25.324675324675322 % \tNumber of Error:  38\n",
            "error percentage: 24.025974025974026 % \tNumber of Error:  37\n",
            "error percentage: 24.675324675324674 % \tNumber of Error:  38\n",
            "error percentage: 25.324675324675322 % \tNumber of Error:  38\n",
            "error percentage: 25.97402597402597 % \tNumber of Error:  39\n",
            "error percentage: 27.27272727272727 % \tNumber of Error:  42\n",
            "error percentage: 27.92207792207792 % \tNumber of Error:  43\n"
          ]
        }
      ],
      "source": [
        "error = []\n",
        "\n",
        "\n",
        "for i in range(1,40):\n",
        "  knn = KNeighborsClassifier(n_neighbors = i)\n",
        "  knn.fit(X_train,y_train)\n",
        "  pred_i = knn.predict(X_test)\n",
        "  error.append(np.mean(pred_i !=y_test))\n",
        "  print(\"error percentage:\",np.mean(pred_i!=y_test)*100,\"% \\tNumber of Error: \",int(np.mean(pred_i!=y_test)*len(y_test)))"
      ]
    },
    {
      "cell_type": "markdown",
      "metadata": {
        "id": "u1t2LNS8Z6Sc"
      },
      "source": [
        "#Plotting Mean Error vs k-Value "
      ]
    },
    {
      "cell_type": "code",
      "execution_count": null,
      "metadata": {
        "colab": {
          "base_uri": "https://localhost:8080/",
          "height": 421
        },
        "id": "u0HoAyaRJVmP",
        "outputId": "29af0acc-47e2-441b-9fad-b4dcc0cb670c"
      },
      "outputs": [
        {
          "data": {
            "text/plain": [
              "Text(0, 0.5, 'Mean Error')"
            ]
          },
          "execution_count": 97,
          "metadata": {},
          "output_type": "execute_result"
        },
        {
          "data": {
            "image/png": "[encoded data removed]",
            "text/plain": [
              "<Figure size 864x432 with 1 Axes>"
            ]
          },
          "metadata": {
            "needs_background": "light"
          },
          "output_type": "display_data"
        }
      ],
      "source": [
        "plt.figure(figsize=(12,6))\n",
        "ax=plt.axes()\n",
        "ax.set(facecolor=\"#D5D8DC\")\n",
        "plt.plot(\n",
        "    range(1,40), \n",
        "    error, \n",
        "    color='#2E4053', \n",
        "    linestyle='dashed', \n",
        "    marker='8', \n",
        "    markerfacecolor='#DC7633', \n",
        "    markersize=10)\n",
        "plt.title('Error Rate K value')\n",
        "plt.xlabel('K value')\n",
        "plt.ylabel('Mean Error')"
      ]
    },
    {
      "cell_type": "markdown",
      "metadata": {},
      "source": [
        "#Finding the best value of k for our data which is for minimum error"
      ]
    },
    {
      "cell_type": "code",
      "execution_count": null,
      "metadata": {},
      "outputs": [
        {
          "name": "stdout",
          "output_type": "stream",
          "text": [
            "The best K value  12 The minimum error value is : 0.22077922077922077 \n",
            "(If multiple first one is taken)\n"
          ]
        }
      ],
      "source": [
        "print(\"The best K value \", np.argmin(error)+1, \"The minimum error value is :\", min(error),\"\\n(If multiple first one is taken)\")"
      ]
    }
  ],
  "metadata": {
    "colab": {
      "collapsed_sections": [],
      "include_colab_link": true,
      "name": "Assignment_Lab1.ipynb",
      "provenance": []
    },
    "kernelspec": {
      "display_name": "Python 3",
      "name": "python3"
    },
    "language_info": {
      "codemirror_mode": {
        "name": "ipython",
        "version": 3
      },
      "file_extension": ".py",
      "mimetype": "text/x-python",
      "name": "python",
      "nbconvert_exporter": "python",
      "pygments_lexer": "ipython3",
      "version": "3.9.6"
    }
  },
  "nbformat": 4,
  "nbformat_minor": 0
}
