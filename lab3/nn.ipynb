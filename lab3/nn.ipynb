{
 "cells": [
  {
   "cell_type": "code",
   "execution_count": 59,
   "metadata": {},
   "outputs": [],
   "source": [
    "import numpy as np\n",
    "import matplotlib.pyplot as plt"
   ]
  },
  {
   "cell_type": "code",
   "execution_count": 60,
   "metadata": {},
   "outputs": [],
   "source": [
    "def sigmoid(z):\n",
    "    return 1/(1+np.exp(-z))"
   ]
  },
  {
   "cell_type": "code",
   "execution_count": 61,
   "metadata": {},
   "outputs": [],
   "source": [
    "def initialize_Parameters(inputFeatures, neuronsInHiddenLayers, outputFeatures):\n",
    "    w1 = np.random.randn(neuronsInHiddenLayers, inputFeatures)\n",
    "    w2 = np.random.randn(outputFeatures, neuronsInHiddenLayers)\n",
    "    b1 = np.zeros((neuronsInHiddenLayers, 1))\n",
    "    b2 = np.zeros((outputFeatures,1))\n",
    "\n",
    "\n",
    "    parameters = {\"w1\":w1, \"b1\":b1, \"w2\":w2, \"b2\":b2}\n",
    "    return parameters"
   ]
  },
  {
   "cell_type": "code",
   "execution_count": 62,
   "metadata": {},
   "outputs": [],
   "source": [
    "def forward_Propagation(X, y, parameters):\n",
    "    m = X.shape[1]\n",
    "    w1 = parameters[\"w1\"]\n",
    "    w2 = parameters[\"w2\"]\n",
    "    b1 = parameters[\"b1\"]\n",
    "    b2 = parameters[\"b2\"]\n",
    "\n",
    "    Z1 = np.dot(w1,X)+b1\n",
    "    A1 = sigmoid(Z1)\n",
    "    Z2 = np.dot(w2,A1)+b2\n",
    "    A2 = sigmoid(Z2)\n",
    "    \n",
    "\n",
    "    cache = (Z1, A1, w1, b1, Z2, A2, w2, b2)\n",
    "    logprobs = np.multiply(np.log(A2), y)+np.multiply(np.log(1-A2), (1-y))\n",
    "    cost = -np.sum(logprobs)/m\n",
    "    return cost, cache, A2"
   ]
  },
  {
   "cell_type": "code",
   "execution_count": 63,
   "metadata": {},
   "outputs": [],
   "source": [
    "def backward_Propagation(X, y, cache):\n",
    "    m = X.shape[1]\n",
    "    (Z1, A1, w1, b1, Z2, A2, w2, b2) = cache\n",
    "    dZ2 = A2 - y\n",
    "    dw2 = np.dot(dZ2, A1.T)/m\n",
    "    db2 = np.sum(dZ2, axis = 1, keepdims=True)\n",
    "\n",
    "    dA1 = np.dot(w2.T, dZ2)\n",
    "    dZ1 = np.multiply(dA1 , A1*(1-A1))\n",
    "    dw1 = np.dot(dZ1 , X.T)/m\n",
    "    db1 = np.sum(dZ1, axis=1, keepdims=True)/m\n",
    "\n",
    "    gradients = {\"dZ2\": dZ2, \"dw2\":dw2, \"db2\":db2,\n",
    "                 \"dZ1\": dZ1, \"dw1\":dw1, \"db1\":db1}\n",
    "    return gradients"
   ]
  },
  {
   "cell_type": "code",
   "execution_count": 64,
   "metadata": {},
   "outputs": [],
   "source": [
    "def update_Parameters(parameters, gradients, learningRate):\n",
    "    parameters[\"w1\"] = parameters[\"w1\"] - learningRate*gradients[\"dw1\"]\n",
    "    parameters[\"w2\"] = parameters[\"w2\"] - learningRate*gradients[\"dw2\"]\n",
    "    parameters[\"b1\"] = parameters[\"b1\"] - learningRate*gradients[\"db1\"]\n",
    "    parameters[\"b2\"] = parameters[\"b2\"] - learningRate*gradients[\"db2\"]\n",
    "    return parameters"
   ]
  },
  {
   "cell_type": "code",
   "execution_count": 65,
   "metadata": {},
   "outputs": [],
   "source": [
    "X = np.array([[0,0,1,1],[0,1,0,1]]) #xor input\n",
    "y = np.array([[0,1,1,0]])#xor output"
   ]
  },
  {
   "cell_type": "code",
   "execution_count": 66,
   "metadata": {},
   "outputs": [],
   "source": [
    "#define model paramters\n",
    "neuronsInHiddenLayers = 2\n",
    "inputFeatures = X.shape[0]\n",
    "outputFeatures = y.shape[0]\n",
    "parameters = initialize_Parameters(inputFeatures, neuronsInHiddenLayers, outputFeatures)\n",
    "epoch = 100000\n",
    "learningRate = 0.01\n",
    "losses = np.zeros((epoch, 1))\n",
    "\n",
    "for i in range(epoch):\n",
    "    losses[i,0] , cache, A2 = forward_Propagation(X, y, parameters)\n",
    "    gradients = backward_Propagation(X, y, cache)\n",
    "    parameters = update_Parameters(parameters, gradients, learningRate)"
   ]
  },
  {
   "cell_type": "code",
   "execution_count": 67,
   "metadata": {},
   "outputs": [
    {
     "data": {
      "image/png": "[encoded data removed]",
      "text/plain": [
       "<Figure size 432x288 with 1 Axes>"
      ]
     },
     "metadata": {
      "needs_background": "light"
     },
     "output_type": "display_data"
    }
   ],
   "source": [
    "plt.figure()\n",
    "plt.plot(losses)\n",
    "plt.xlabel(\"EPOCHS\")\n",
    "plt.ylabel(\"Loss value\")\n",
    "plt.show()"
   ]
  },
  {
   "cell_type": "code",
   "execution_count": 68,
   "metadata": {},
   "outputs": [
    {
     "name": "stdout",
     "output_type": "stream",
     "text": [
      "[[1. 0. 0. 1.]]\n"
     ]
    }
   ],
   "source": [
    "X = np.array([[1, 1, 0, 0], [0, 1, 0, 1]]) # XOR input\n",
    "cost, _, A2 = forward_Propagation(X, y, parameters)\n",
    "prediction = (A2 > 0.5) * 1.0\n",
    "# print(A2)\n",
    "print(prediction)"
   ]
  },
  {
   "cell_type": "code",
   "execution_count": 69,
   "metadata": {},
   "outputs": [],
   "source": [
    "import seaborn as sns"
   ]
  }
 ],
 "metadata": {
  "interpreter": {
   "hash": "8f685d330ec50842f1b4a4823c08852416b0a30f698b69dd5298fffe475bd9a2"
  },
  "kernelspec": {
   "display_name": "Python 3.10.0 ('venv': venv)",
   "language": "python",
   "name": "python3"
  },
  "language_info": {
   "codemirror_mode": {
    "name": "ipython",
    "version": 3
   },
   "file_extension": ".py",
   "mimetype": "text/x-python",
   "name": "python",
   "nbconvert_exporter": "python",
   "pygments_lexer": "ipython3",
   "version": "3.10.0"
  },
  "orig_nbformat": 4
 },
 "nbformat": 4,
 "nbformat_minor": 2
}
