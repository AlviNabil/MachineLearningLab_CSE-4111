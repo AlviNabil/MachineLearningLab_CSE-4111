{
 "cells": [
  {
   "cell_type": "code",
   "execution_count": 1,
   "metadata": {},
   "outputs": [],
   "source": [
    "import numpy as np\n",
    "import matplotlib.pyplot as plt\n",
    "import seaborn as sns"
   ]
  },
  {
   "cell_type": "code",
   "execution_count": 2,
   "metadata": {},
   "outputs": [],
   "source": [
    "class MLP:\n",
    "    def __init__(self,train_data, target, lr=0.1, num_epochs=100, num_input=2, num_hidden=2, num_output=1):\n",
    "        self.train_data = train_data\n",
    "        self.target = target\n",
    "        self.lr = lr\n",
    "        self.num_epochs = num_epochs\n",
    "\n",
    "        #initialization\n",
    "        self.w01 = np.random.uniform(size=(num_input,num_hidden))\n",
    "        self.b01 = np.random.uniform(size=(1,num_hidden))\n",
    "        self.w12 = np.random.uniform(size=(num_hidden, num_output))#2,1\n",
    "        self.b12 = np.random.uniform(size=(1, num_output))\n",
    "\n",
    "        self.losses = []\n",
    "\n",
    "    def sigmoid(self, x):\n",
    "        return 1/(1+np.exp(-x))\n",
    "    def delsigmoid(self, x):\n",
    "        return x*(1-x)\n",
    "    \n",
    "    \n",
    "    def tanh(self, x):\n",
    "        return ((1-np.exp(-2*x))/(1+np.exp(-2*x)))\n",
    "    def deltanh(self, x):\n",
    "        return (1-x)*(1+x)\n",
    "\n",
    "\n",
    "    def forward(self, batch):\n",
    "        self.hidden = np.dot(batch, self.w01)+self.b01\n",
    "        self.hidden_out = self.sigmoid(self.hidden)\n",
    "        self.output = np.dot(self.hidden_out, self.w12)+self.b12\n",
    "        self.output_final = self.sigmoid(self.output)\n",
    "        return self.output_final\n",
    "    def update_weights(self):\n",
    "        loss = 0.5*(self.target-self.output_final)**2\n",
    "        self.losses.append(np.sum(loss))\n",
    "        error_term = self.output_final-self.target\n",
    "        \n",
    "        grad12 = error_term*self.delsigmoid(self.output_final)\n",
    "        grad01 = np.dot(grad12, self.w12.T)*self.delsigmoid(self.hidden_out)\n",
    "\n",
    "        self.w01-=self.lr*np.dot(self.train_data.T, grad01)\n",
    "        self.w12-=self.lr*np.dot(self.hidden_out.T, grad12)\n",
    "\n",
    "        self.b01-=self.lr*np.sum(grad01, axis=0)\n",
    "        self.b12-=self.lr*np.sum(grad12, axis=0)\n",
    "    def train(self):\n",
    "        for epoch in range(self.num_epochs):\n",
    "            self.forward(self.train_data)\n",
    "            self.update_weights()\n",
    "    def classify(self,datapoint):\n",
    "        if self.forward(datapoint)>=0.5:\n",
    "            return 1\n",
    "        return 0\n",
    "    def plot(self, h=0.01):\n",
    "        \"\"\"\n",
    "        Generate plot of input data and decision boundary.\n",
    "        \"\"\"\n",
    "        # setting plot properties like size, theme and axis limits\n",
    "        sns.set_style('darkgrid')\n",
    "        plt.figure(figsize=(10, 10))\n",
    "\n",
    "        plt.axis('scaled')\n",
    "        plt.xlim(-0.1, 1.1)\n",
    "        plt.ylim(-0.1, 1.1)\n",
    "\n",
    "        colors = {\n",
    "            0: \"ro\",\n",
    "            1: \"go\"\n",
    "        }\n",
    "\n",
    "        # plotting the four datapoints\n",
    "        for i in range(len(self.train_data)):\n",
    "            plt.plot([self.train_data[i][0]],\n",
    "                     [self.train_data[i][1]],\n",
    "                     colors[self.target[i][0]],\n",
    "                     markersize=20)\n",
    "\n",
    "        x_range = np.arange(-0.1, 1.1, h)\n",
    "        y_range = np.arange(-0.1, 1.1, h)\n",
    "\n",
    "        # creating a mesh to plot decision boundary\n",
    "        xx, yy = np.meshgrid(x_range, y_range, indexing='ij')\n",
    "        Z = np.array([[self.classify([x, y]) for x in x_range] for y in y_range])\n",
    "\n",
    "        # using the contourf function to create the plot\n",
    "        plt.contourf(xx, yy, Z, colors=['red', 'green', 'green', 'blue'], alpha=0.4)"
   ]
  },
  {
   "cell_type": "code",
   "execution_count": 3,
   "metadata": {},
   "outputs": [],
   "source": [
    "\n",
    "train_data = np.array([\n",
    "    [0,0],\n",
    "    [0,1],\n",
    "    [1,0],\n",
    "    [1,1]\n",
    "])"
   ]
  },
  {
   "cell_type": "code",
   "execution_count": 4,
   "metadata": {},
   "outputs": [],
   "source": [
    "target_xor = np.array([\n",
    "    [0],\n",
    "    [1],\n",
    "    [1],\n",
    "    [0]\n",
    "])"
   ]
  },
  {
   "cell_type": "code",
   "execution_count": 5,
   "metadata": {},
   "outputs": [],
   "source": [
    "target_or = np.array([\n",
    "    [0],\n",
    "    [1],\n",
    "    [1],\n",
    "    [1]\n",
    "])"
   ]
  },
  {
   "cell_type": "code",
   "execution_count": 6,
   "metadata": {},
   "outputs": [
    {
     "data": {
      "text/plain": [
       "1"
      ]
     },
     "execution_count": 6,
     "metadata": {},
     "output_type": "execute_result"
    }
   ],
   "source": [
    "mlp = MLP(train_data, target_xor, 0.2, 10000)\n",
    "mlp.train()\n",
    "mlp.classify([0,1])"
   ]
  },
  {
   "cell_type": "code",
   "execution_count": 7,
   "metadata": {},
   "outputs": [
    {
     "data": {
      "text/plain": [
       "[<matplotlib.lines.Line2D at 0x1dddc5568f0>]"
      ]
     },
     "execution_count": 7,
     "metadata": {},
     "output_type": "execute_result"
    },
    {
     "data": {
      "image/png": "[encoded data removed]",
      "text/plain": [
       "<Figure size 432x288 with 1 Axes>"
      ]
     },
     "metadata": {
      "needs_background": "light"
     },
     "output_type": "display_data"
    }
   ],
   "source": [
    "plt.plot(mlp.losses)"
   ]
  },
  {
   "cell_type": "code",
   "execution_count": 8,
   "metadata": {},
   "outputs": [
    {
     "data": {
      "image/png": "[encoded data removed]",
      "text/plain": [
       "<Figure size 720x720 with 1 Axes>"
      ]
     },
     "metadata": {},
     "output_type": "display_data"
    }
   ],
   "source": [
    "mlp.plot()"
   ]
  },
  {
   "cell_type": "code",
   "execution_count": 9,
   "metadata": {},
   "outputs": [
    {
     "data": {
      "text/plain": [
       "array([[-6.27567537, -2.67765465]])"
      ]
     },
     "execution_count": 9,
     "metadata": {},
     "output_type": "execute_result"
    }
   ],
   "source": [
    "mlp.b01\n"
   ]
  },
  {
   "cell_type": "code",
   "execution_count": 10,
   "metadata": {},
   "outputs": [
    {
     "name": "stdout",
     "output_type": "stream",
     "text": [
      "[[0.28176131 0.65253245]\n",
      " [0.86670597 0.73589874]]\n"
     ]
    }
   ],
   "source": [
    "w01 = np.random.uniform(size=(2,2))\n",
    "print(w01)"
   ]
  }
 ],
 "metadata": {
  "kernelspec": {
   "display_name": "Python 3.9.13 ('venv': venv)",
   "language": "python",
   "name": "python3"
  },
  "language_info": {
   "codemirror_mode": {
    "name": "ipython",
    "version": 3
   },
   "file_extension": ".py",
   "mimetype": "text/x-python",
   "name": "python",
   "nbconvert_exporter": "python",
   "pygments_lexer": "ipython3",
   "version": "3.9.13"
  },
  "orig_nbformat": 4,
  "vscode": {
   "interpreter": {
    "hash": "1108aa3f511d801b0e9d1a3764d36917e10bbbf78a70a8cf2980bbcaf48a1480"
   }
  }
 },
 "nbformat": 4,
 "nbformat_minor": 2
}
