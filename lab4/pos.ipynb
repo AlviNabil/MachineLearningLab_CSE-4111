{
 "cells": [
  {
   "cell_type": "code",
   "execution_count": 13,
   "metadata": {},
   "outputs": [],
   "source": [
    "import numpy as np\n",
    "import matplotlib.pyplot as plt\n",
    "import random\n"
   ]
  },
  {
   "cell_type": "code",
   "execution_count": 7,
   "metadata": {},
   "outputs": [],
   "source": [
    "def Sphere(x):\n",
    "    z= np.sum(np.square(x))\n",
    "    return z;"
   ]
  },
  {
   "cell_type": "code",
   "execution_count": 8,
   "metadata": {},
   "outputs": [],
   "source": [
    "#parameter setting\n",
    "d=10\n",
    "xMin, xMax = -100, 100\n",
    "vMin, vMax = -0.2*(xMax-xMin),.2*(xMax-xMin)\n",
    "MaxItn = 3000\n",
    "ps = 10\n",
    "c1 = 2\n",
    "c2 = 2\n",
    "w = 0.9-((.9-.4)/MaxItn)*np.linspace(0, MaxItn, MaxItn)\n",
    "def limitV(v):\n",
    "    for i in range(len(v)):\n",
    "        if v[i]>vMax:\n",
    "            v[i]=vMax\n",
    "        if v[i]<vMin:\n",
    "            v[i]=vMin\n",
    "    return v\n",
    "def limitx(x):\n",
    "    for i in range(len(x)):\n",
    "        if x[i]>xMax:\n",
    "            x[i]=xMax\n",
    "        if x[i]<xMin:\n",
    "            x[i]=xMin\n",
    "    return x"
   ]
  },
  {
   "cell_type": "code",
   "execution_count": 9,
   "metadata": {},
   "outputs": [],
   "source": [
    "#algo\n",
    "def optimization():\n",
    "    class particle():\n",
    "        def __init__(self):\n",
    "            self.position = np.random.uniform(xMin, 50,[ps, d])\n",
    "            self.velocity = np.random.uniform(vMin, vMax,[ps, d])\n",
    "            self.cost = np.zeros(ps)\n",
    "            self.cost[:]=Sphere(self.position[:])\n",
    "            self.pbest = np.copy(self.position)\n",
    "            self.pbest_cost = np.copy(self.cost)\n",
    "            self.index = np.argmin(self.pbest_cost)\n",
    "            self.gbest = self.pbest[self.index]\n",
    "            self.gbest_cost = self.pbest_cost[self.index]\n",
    "            self.Bestcost = np.zeros(MaxItn)\n",
    "        def evaluate(self):\n",
    "            for it in range(MaxItn):\n",
    "                for i in range(ps):\n",
    "                    self.velocity[i] = (w[it]*self.velocity[i]+c1*np.random.rand(d)*(self.pbest[i]-self.position[i])+c2*np.random.rand(d)*(self.gbest-self.position[i]))\n",
    "                    self.velocity[i]=limitV(self.velocity[i])\n",
    "                    self.position[i] = self.position[i]+self.velocity[i]\n",
    "                    self.position[i] = limitx(self.position[i])\n",
    "                    self.cost[i] = Sphere(self.position[i])\n",
    "                    if self.cost[i]<self.pbest_cost[i]:\n",
    "                        self.pbest[i]=self.position[i]\n",
    "                        self.pbest_cost[i] = self.cost[i]\n",
    "                        if self.pbest_cost[i]<self.gbest_cost:\n",
    "                            self.gbest = self.pbest[i]\n",
    "                            self.gbest_cost = self.pbest_cost[i]\n",
    "                self.Bestcost[it] = self.gbest_cost\n",
    "        def plot(self):\n",
    "            plt.semilogy(self.Bestcost)\n",
    "            plt.ylim(10e-120,10e20)\n",
    "            plt.xlim(0,3000)\n",
    "            print(self.gbest_cost)\n",
    "    a = particle()\n",
    "    a.evaluate()\n",
    "    a.plot()    "
   ]
  },
  {
   "cell_type": "code",
   "execution_count": 10,
   "metadata": {},
   "outputs": [
    {
     "name": "stdout",
     "output_type": "stream",
     "text": [
      "3.302036620163509e-60\n"
     ]
    },
    {
     "data": {
      "image/png": "[encoded data removed]",
      "text/plain": [
       "<Figure size 432x288 with 1 Axes>"
      ]
     },
     "metadata": {
      "needs_background": "light"
     },
     "output_type": "display_data"
    }
   ],
   "source": [
    "optimization()"
   ]
  },
  {
   "cell_type": "code",
   "execution_count": 18,
   "metadata": {},
   "outputs": [
    {
     "name": "stdout",
     "output_type": "stream",
     "text": [
      "[[-97.54604952   8.62037226 -49.3627687   46.27691897  -9.72392658\n",
      "   31.00357738 -63.48824918 -37.45776105 -51.39529991   7.99390222]\n",
      " [ 33.37546635 -25.10255795 -56.91971155 -29.05547122  19.40132985\n",
      "   19.28594869 -23.64234118 -70.36221075 -39.07962809  33.51653767]\n",
      " [-58.76603029 -49.67525477  17.26660249  23.00122079  -6.88216922\n",
      "   36.55902497 -97.16475197 -99.50557735  37.18003711 -24.3767489 ]\n",
      " [-33.65675584 -30.55982951 -45.64330399  49.92243224 -10.61292787\n",
      "  -36.75087356 -60.59712416  20.47039739 -40.87306563  10.00244251]\n",
      " [-40.26378633  46.97907214 -67.82649153   1.37321844 -81.50550277\n",
      "  -79.09668785 -55.70242465 -68.58453867  12.5355376   46.61581531]\n",
      " [ 16.34051899 -91.49753378 -34.1085199   43.00185327 -86.6523066\n",
      "   19.70979667 -46.41748774 -95.73149479 -36.51705567  29.20469463]\n",
      " [-85.76575268  18.3684837  -45.91376416 -76.15420352  38.16400606\n",
      "  -78.31507      9.95660436 -99.01825413 -63.33213918 -68.04812017]\n",
      " [-18.00401939   8.66783992  46.8054383  -89.18037131 -96.57108177\n",
      "  -53.68497596 -27.04250302 -70.80544327 -94.63327382 -37.62658016]\n",
      " [-56.58571194 -14.0143284  -86.68374105   7.20214547 -87.09773699\n",
      "  -99.93540055 -75.09081546 -31.32441771 -59.62525893 -75.15364986]\n",
      " [-79.05996224  46.59136187   2.91245016 -23.54485934 -35.40802252\n",
      "  -59.27757686  49.20129604 -89.30175611 -66.22802674 -43.29418405]]\n"
     ]
    }
   ],
   "source": [
    "X = np.random.uniform(-100, 50, [10,10])\n",
    "print(X)"
   ]
  },
  {
   "cell_type": "code",
   "execution_count": null,
   "metadata": {},
   "outputs": [],
   "source": []
  },
  {
   "cell_type": "code",
   "execution_count": null,
   "metadata": {},
   "outputs": [],
   "source": []
  }
 ],
 "metadata": {
  "kernelspec": {
   "display_name": "Python 3.9.13 ('venv': venv)",
   "language": "python",
   "name": "python3"
  },
  "language_info": {
   "codemirror_mode": {
    "name": "ipython",
    "version": 3
   },
   "file_extension": ".py",
   "mimetype": "text/x-python",
   "name": "python",
   "nbconvert_exporter": "python",
   "pygments_lexer": "ipython3",
   "version": "3.9.13"
  },
  "orig_nbformat": 4,
  "vscode": {
   "interpreter": {
    "hash": "1108aa3f511d801b0e9d1a3764d36917e10bbbf78a70a8cf2980bbcaf48a1480"
   }
  }
 },
 "nbformat": 4,
 "nbformat_minor": 2
}
