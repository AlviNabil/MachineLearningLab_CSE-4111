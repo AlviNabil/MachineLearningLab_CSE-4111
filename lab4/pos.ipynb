{
 "cells": [
  {
   "cell_type": "code",
   "execution_count": 18,
   "metadata": {},
   "outputs": [],
   "source": [
    "import numpy as np\n",
    "import matplotlib.pyplot as plt\n",
    "\n"
   ]
  },
  {
   "cell_type": "code",
   "execution_count": 19,
   "metadata": {},
   "outputs": [],
   "source": [
    "def Sphere(x):\n",
    "    z= np.sum(np.square(x))\n",
    "    return z;"
   ]
  },
  {
   "cell_type": "code",
   "execution_count": 20,
   "metadata": {},
   "outputs": [],
   "source": [
    "#parameter setting\n",
    "d=10\n",
    "xMin, xMax = -100, 100\n",
    "vMin, vMax = -.2*(xMax-xMin),.2*(xMax-xMin)\n",
    "MaxItn = 3000\n",
    "ps = 10\n",
    "c1 = 2\n",
    "c2 = 2\n",
    "w = 0.9-((.9-.4)/MaxItn)*np.linspace(0, MaxItn, MaxItn)\n",
    "def limitV(v):\n",
    "    for i in range(len(v)):\n",
    "        if v[i]>vMax:\n",
    "            v[i]=vMax\n",
    "        if v[i]<vMin:\n",
    "            v[i]=vMin\n",
    "    return v\n",
    "def limitx(x):\n",
    "    for i in range(len(x)):\n",
    "        if x[i]>xMax:\n",
    "            x[i]=xMax\n",
    "        if x[i]<xMin:\n",
    "            x[i]=xMin\n",
    "    return x"
   ]
  },
  {
   "cell_type": "code",
   "execution_count": 21,
   "metadata": {},
   "outputs": [],
   "source": [
    "#algo\n",
    "def optimization():\n",
    "    class particle():\n",
    "        def __init__(self):\n",
    "            self.position = np.random.uniform(xMin, 50,[ps, d])\n",
    "            self.velocity = np.random.uniform(vMin, vMax,[ps, d])\n",
    "            self.cost = np.zeros(ps)\n",
    "            self.cost[:]=Sphere(self.position[:])\n",
    "            self.pbest = np.copy(self.position)\n",
    "            self.pbest_cost = np.copy(self.cost)\n",
    "            self.index = np.argmin(self.pbest_cost)\n",
    "            self.gbest = self.pbest[self.index]\n",
    "            self.gbest_cost = self.pbest_cost[self.index]\n",
    "            self.Bestcost = np.zeros(MaxItn)\n",
    "        def evaluate(self):\n",
    "            for it in range(MaxItn):\n",
    "                for i in range(ps):\n",
    "                    self.velocity[i] = (w[it]*self.velocity[i]+c1*np.random.rand(d)*(self.pbest[i]-self.position[i])+c2*np.random.rand(d)*(self.gbest-self.position[i]))\n",
    "                    self.velocity[i]=limitV(self.velocity[i])\n",
    "                    self.position[i] = self.position[i]+self.velocity[i]\n",
    "                    self.position[i] = limitx(self.position[i])\n",
    "\n",
    "                    self.cost[i] = Sphere(self.position[i])\n",
    "                    if self.cost[i]<self.pbest_cost[i]:\n",
    "                        self.pbest[i]=self.pbest_cost[i]\n",
    "                        self.pbest_cost = self.cost[i]\n",
    "                        if self.pbest_cost[i]<self.gbest_cost:\n",
    "                            self.gbest = self.pbest[i]\n",
    "                            self.gbest_cost = self.pbest_cost[i]\n",
    "                self.Bestcost[it] = self.gbest_cost\n",
    "        def plot(self):\n",
    "            plt.semilogy(self.BestCost)\n",
    "            print(self.gbest_cost)\n",
    "    a = particle()\n",
    "    a.evaluate()\n",
    "    a.plot()    "
   ]
  },
  {
   "cell_type": "code",
   "execution_count": null,
   "metadata": {},
   "outputs": [],
   "source": []
  }
 ],
 "metadata": {
  "kernelspec": {
   "display_name": "Python 3.9.13 ('venv': venv)",
   "language": "python",
   "name": "python3"
  },
  "language_info": {
   "codemirror_mode": {
    "name": "ipython",
    "version": 3
   },
   "file_extension": ".py",
   "mimetype": "text/x-python",
   "name": "python",
   "nbconvert_exporter": "python",
   "pygments_lexer": "ipython3",
   "version": "3.9.13"
  },
  "orig_nbformat": 4,
  "vscode": {
   "interpreter": {
    "hash": "1108aa3f511d801b0e9d1a3764d36917e10bbbf78a70a8cf2980bbcaf48a1480"
   }
  }
 },
 "nbformat": 4,
 "nbformat_minor": 2
}
